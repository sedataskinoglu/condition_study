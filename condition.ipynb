{
  "nbformat": 4,
  "nbformat_minor": 0,
  "metadata": {
    "colab": {
      "provenance": [],
      "authorship_tag": "ABX9TyPHp00QmkVI0xkPaKWSQ8/u",
      "include_colab_link": true
    },
    "kernelspec": {
      "name": "python3",
      "display_name": "Python 3"
    },
    "language_info": {
      "name": "python"
    }
  },
  "cells": [
    {
      "cell_type": "markdown",
      "metadata": {
        "id": "view-in-github",
        "colab_type": "text"
      },
      "source": [
        "<a href=\"https://colab.research.google.com/github/sedataskinoglu/condition_study/blob/main/condition.ipynb\" target=\"_parent\"><img src=\"https://colab.research.google.com/assets/colab-badge.svg\" alt=\"Open In Colab\"/></a>"
      ]
    },
    {
      "cell_type": "code",
      "execution_count": 7,
      "metadata": {
        "colab": {
          "base_uri": "https://localhost:8080/"
        },
        "id": "x6F4P5Y1WcAG",
        "outputId": "093f837d-be89-463f-ed32-88e69f1c34f2"
      },
      "outputs": [
        {
          "output_type": "stream",
          "name": "stdout",
          "text": [
            "Maas blgilerini gir:3500\n",
            "2625.0\n"
          ]
        }
      ],
      "source": [
        "maas = int(input(\"Maas blgilerini gir:\"))\n",
        "if maas <= 1000 :\n",
        "  yeni_maas = maas - (maas*0.05)\n",
        "  print(yeni_maas)\n",
        "elif maas <= 2500 :\n",
        "  yeni_maas = maas - (maas*0.1)\n",
        "  print(yeni_maas)\n",
        "elif maas <= 4500 :\n",
        "  yeni_maas = maas - (maas*0.25)\n",
        "  print(yeni_maas)\n",
        "else:\n",
        "  yeni_maas = maas - (maas*0.30)\n",
        "  print(yeni_maas)\n"
      ]
    },
    {
      "cell_type": "code",
      "source": [
        "kullanici_adi = input(\"Kullanici adinizi giriniz:\")\n",
        "sifre = input(\"Sifrenizi giriniz: \")\n",
        "if len(sifre) == 6 :\n",
        "  print(\"sifre olusturuldu\")\n",
        "elif len(sifre) < 6 :\n",
        "  print(\"6 haneden az olusturuldu\")\n",
        "else:\n",
        "  print(\"6 haneden fazla olusturuldu\")\n"
      ],
      "metadata": {
        "colab": {
          "base_uri": "https://localhost:8080/"
        },
        "id": "Je5ZJFBrYsKj",
        "outputId": "849784eb-8d1f-4c3e-ce00-c33a4c06e366"
      },
      "execution_count": 14,
      "outputs": [
        {
          "output_type": "stream",
          "name": "stdout",
          "text": [
            "Kullanici adinizi giriniz:ayse\n",
            "Sifrenizi giriniz: 1234\n",
            "6 haneden az olusturuldu\n"
          ]
        }
      ]
    },
    {
      "cell_type": "code",
      "source": [
        "kullanici_adi = input(\"Kullanıcı adınızı giriniz: \")\n",
        "\n",
        "while True:\n",
        "    sifre = input(\"Şifrenizi giriniz: \")\n",
        "\n",
        "    if 5 <= len(sifre) <= 10:\n",
        "        print(\"Hesabınız oluşturuldu.\")\n",
        "        break\n",
        "    else:\n",
        "        print(\"Lütfen girdiğiniz şifre 5 haneden az 10 haneden fazla olmasın!\\n\")\n"
      ],
      "metadata": {
        "colab": {
          "base_uri": "https://localhost:8080/"
        },
        "id": "mejIOV2VbGyF",
        "outputId": "2b7efb1e-70f8-4ba4-aee0-d6634da19133"
      },
      "execution_count": 22,
      "outputs": [
        {
          "output_type": "stream",
          "name": "stdout",
          "text": [
            "Kullanıcı adınızı giriniz: seda\n",
            "Şifrenizi giriniz: 123\n",
            "Lütfen girdiğiniz şifre 5 haneden az 10 haneden fazla olmasın!\n",
            "\n",
            "Şifrenizi giriniz: 123456\n",
            "Hesabınız oluşturuldu.\n"
          ]
        }
      ]
    },
    {
      "cell_type": "code",
      "source": [
        "kullanici_adi = input(\"Kullanici adinizi giriniz:\")\n",
        "\n",
        "sifre = \"1234\"\n",
        "i=0\n",
        "while i < 3:\n",
        "  g_sifre = input(\"Sifrenizi giriniz: \")\n",
        "  if g_sifre== sifre:\n",
        "    print(\"giris yaptiniz\")\n",
        "    break\n",
        "  else:\n",
        "     i+=1\n",
        "     print(\"{} hakkınız yanlis sifre girildi\".format(i))\n",
        "\n",
        "\n"
      ],
      "metadata": {
        "colab": {
          "base_uri": "https://localhost:8080/"
        },
        "id": "xR1KAeYmc1tx",
        "outputId": "1f475e87-d33d-42b9-c6b4-3bdad905f0da"
      },
      "execution_count": 38,
      "outputs": [
        {
          "output_type": "stream",
          "name": "stdout",
          "text": [
            "Kullanici adinizi giriniz:seda\n",
            "Sifrenizi giriniz: 123\n",
            "1 hakkınız yanlis sifre girildi\n",
            "Sifrenizi giriniz: 234\n",
            "2 hakkınız yanlis sifre girildi\n",
            "Sifrenizi giriniz: 456\n",
            "3 hakkınız yanlis sifre girildi\n"
          ]
        }
      ]
    }
  ]
}